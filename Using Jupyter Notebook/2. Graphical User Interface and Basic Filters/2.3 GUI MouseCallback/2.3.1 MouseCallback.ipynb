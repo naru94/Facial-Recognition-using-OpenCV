{
 "cells": [
  {
   "cell_type": "code",
   "execution_count": 1,
   "metadata": {},
   "outputs": [],
   "source": [
    "import numpy as np\n",
    "import cv2"
   ]
  },
  {
   "cell_type": "code",
   "execution_count": 2,
   "metadata": {},
   "outputs": [],
   "source": [
    "# open the default camera\n",
    "cap = cv2.VideoCapture(0)"
   ]
  },
  {
   "cell_type": "code",
   "execution_count": 3,
   "metadata": {},
   "outputs": [],
   "source": [
    "# initialize parameters for drawing circle\n",
    "color = (0,255,0)\n",
    "line_width = 2\n",
    "radius = 50\n",
    "point = (0,0)"
   ]
  },
  {
   "cell_type": "code",
   "execution_count": 4,
   "metadata": {},
   "outputs": [],
   "source": [
    "# Mouse callback function\n",
    "# • event - mouse event types\n",
    "# • x - x cordinate\n",
    "# • y - y cordinate\n",
    "# • flags - name it \n",
    "# • param - additional variables you can send them via param\n",
    "\n",
    "def onMouse(event, x, y, flags, param):\n",
    "    global point, pressed\n",
    "    if event == cv2.EVENT_LBUTTONDOWN:\n",
    "        print(\"Pressed\",x,y)\n",
    "        point = (x,y)\n"
   ]
  },
  {
   "cell_type": "code",
   "execution_count": 5,
   "metadata": {},
   "outputs": [
    {
     "name": "stdout",
     "output_type": "stream",
     "text": [
      "Pressed 150 150\n"
     ]
    }
   ],
   "source": [
    "# Create window\n",
    "cv2.namedWindow(\"Frame\")\n",
    "\n",
    "# Checks if any mouse action is performed\n",
    "cv2.setMouseCallback(\"Frame\", onMouse)\n",
    "\n",
    "# To check whether we can read the video filename or the camera\n",
    "while(True):\n",
    "\n",
    "    # get a new frame from camera\n",
    "    ret, frame = cap.read()\n",
    "\n",
    "    # resize the video frame to reduce the number of pixels\n",
    "    frame = cv2.resize(frame, (0,0), fx=0.5,fy=0.5)\n",
    "\n",
    "    #draw the circle on mouse click\n",
    "    cv2.circle(frame, point, radius, color, line_width)\n",
    "\n",
    "    # Show image\n",
    "    cv2.imshow(\"Frame\",frame)\n",
    "\n",
    "    # wait for 1 milli-sec\n",
    "    ch = cv2.waitKey(1)\n",
    "\n",
    "    # wait app for 'q' key to exit\n",
    "    if ch & 0xFF == ord('q'):\n",
    "        break\n",
    "\n",
    "# release the camera or video cap\n",
    "cap.release()\n",
    "\n",
    "# destroy all windows\n",
    "cv2.destroyAllWindows()"
   ]
  },
  {
   "cell_type": "code",
   "execution_count": null,
   "metadata": {},
   "outputs": [],
   "source": []
  }
 ],
 "metadata": {
  "kernelspec": {
   "display_name": "Python 3",
   "language": "python",
   "name": "python3"
  },
  "language_info": {
   "codemirror_mode": {
    "name": "ipython",
    "version": 3
   },
   "file_extension": ".py",
   "mimetype": "text/x-python",
   "name": "python",
   "nbconvert_exporter": "python",
   "pygments_lexer": "ipython3",
   "version": "3.7.6"
  }
 },
 "nbformat": 4,
 "nbformat_minor": 4
}
