{
 "cells": [
  {
   "cell_type": "code",
   "execution_count": 1,
   "metadata": {},
   "outputs": [],
   "source": [
    "import numpy as np\n",
    "import cv2\n",
    "from IPython.display import clear_output"
   ]
  },
  {
   "cell_type": "code",
   "execution_count": 2,
   "metadata": {},
   "outputs": [],
   "source": [
    "# onChange Call-Back function\n",
    "def onChange_B(x):\n",
    "    clear_output(wait=True)\n",
    "    print(\"Blue Value \" + str(x))\n",
    "def onChange_G(y):\n",
    "    clear_output(wait=True)\n",
    "    print(\"Green Value \" + str(y))\n",
    "def onChange_R(z):\n",
    "    clear_output(wait=True)\n",
    "    print(\"Red Value \" + str(z))"
   ]
  },
  {
   "cell_type": "code",
   "execution_count": 3,
   "metadata": {},
   "outputs": [],
   "source": [
    "# Create a black image\n",
    "color = np.zeros((300,512,3), np.uint8)"
   ]
  },
  {
   "cell_type": "code",
   "execution_count": 4,
   "metadata": {},
   "outputs": [],
   "source": [
    "# Create window\n",
    "cv2.namedWindow('Color')"
   ]
  },
  {
   "cell_type": "code",
   "execution_count": 5,
   "metadata": {},
   "outputs": [],
   "source": [
    "# create switch for ON/OFF functionality\n",
    "switch = '0 : OFF or 1 : ON'"
   ]
  },
  {
   "cell_type": "code",
   "execution_count": 6,
   "metadata": {},
   "outputs": [],
   "source": [
    "# create a trackbars\n",
    "cv2.createTrackbar('B', \"Color\", 0, 255, onChange_B)\n",
    "cv2.createTrackbar('G', \"Color\", 0, 255, onChange_G)\n",
    "cv2.createTrackbar('R', \"Color\", 0, 255, onChange_R)"
   ]
  },
  {
   "cell_type": "code",
   "execution_count": 7,
   "metadata": {},
   "outputs": [
    {
     "name": "stdout",
     "output_type": "stream",
     "text": [
      "Blue Value 204\n"
     ]
    }
   ],
   "source": [
    "while(True):\n",
    "    # Show image\n",
    "    cv2.imshow('Color',color)\n",
    "\n",
    "    # wait app for 'q' key to exit\n",
    "    ch = cv2.waitKey(1)\n",
    "    if ch & 0xFF == ord('q'):\n",
    "        break\n",
    "\n",
    "    # get trackbar value\n",
    "    b = cv2.getTrackbarPos('B', 'Color')\n",
    "    g = cv2.getTrackbarPos('G', 'Color')\n",
    "    r = cv2.getTrackbarPos('R', 'Color')\n",
    "\n",
    "    # update image pixels with the respective values\n",
    "    color[:] = [b, g, r]\n",
    "\n",
    "# Destroy the windows\n",
    "cv2.destroyAllWindows()"
   ]
  },
  {
   "cell_type": "code",
   "execution_count": null,
   "metadata": {},
   "outputs": [],
   "source": []
  }
 ],
 "metadata": {
  "kernelspec": {
   "display_name": "Python 3",
   "language": "python",
   "name": "python3"
  },
  "language_info": {
   "codemirror_mode": {
    "name": "ipython",
    "version": 3
   },
   "file_extension": ".py",
   "mimetype": "text/x-python",
   "name": "python",
   "nbconvert_exporter": "python",
   "pygments_lexer": "ipython3",
   "version": "3.7.6"
  }
 },
 "nbformat": 4,
 "nbformat_minor": 4
}
