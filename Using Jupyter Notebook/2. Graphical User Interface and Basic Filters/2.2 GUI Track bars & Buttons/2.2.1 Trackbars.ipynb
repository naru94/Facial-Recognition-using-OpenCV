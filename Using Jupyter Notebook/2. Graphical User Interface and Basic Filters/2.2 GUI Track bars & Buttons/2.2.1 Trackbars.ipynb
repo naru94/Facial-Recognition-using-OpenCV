{
 "cells": [
  {
   "cell_type": "code",
   "execution_count": 1,
   "metadata": {},
   "outputs": [],
   "source": [
    "import numpy as np\n",
    "import cv2"
   ]
  },
  {
   "cell_type": "code",
   "execution_count": 2,
   "metadata": {},
   "outputs": [],
   "source": [
    "# Create a variable to save the position value in track\n",
    "pos=1"
   ]
  },
  {
   "cell_type": "code",
   "execution_count": 3,
   "metadata": {},
   "outputs": [],
   "source": [
    "# onChange Call-Back function\n",
    "def onChange(pos):\n",
    "    # Read image\n",
    "    lena = cv2.imread(\"Lena.png\")\n",
    "\n",
    "    # Show image\n",
    "    cv2.imshow(\"Lena\", lena)\n",
    "\n",
    "    # if trackbar value changes\n",
    "    if (pos > 0):\n",
    "        # Apply blur filter\n",
    "        lena = cv2.blur(lena,(pos,pos))\n",
    "        # Show blurred image\n",
    "        cv2.imshow(\"Lena\",lena)"
   ]
  },
  {
   "cell_type": "code",
   "execution_count": 4,
   "metadata": {},
   "outputs": [],
   "source": [
    "# Create windows\n",
    "cv2.namedWindow(\"Lena\")\n",
    "\n",
    "# create a trackbar\n",
    "lena = cv2.createTrackbar(\"Blur\", \"Lena\", pos, 15, onChange)\n",
    "\n",
    "# Call to onChange to init\n",
    "onChange(pos);\n",
    "\n",
    "# wait app for a key to exit\n",
    "cv2.waitKey(0)\n",
    "\n",
    "# Destroy the windows\n",
    "cv2.destroyAllWindows();"
   ]
  },
  {
   "cell_type": "code",
   "execution_count": null,
   "metadata": {},
   "outputs": [],
   "source": []
  }
 ],
 "metadata": {
  "kernelspec": {
   "display_name": "Python 3",
   "language": "python",
   "name": "python3"
  },
  "language_info": {
   "codemirror_mode": {
    "name": "ipython",
    "version": 3
   },
   "file_extension": ".py",
   "mimetype": "text/x-python",
   "name": "python",
   "nbconvert_exporter": "python",
   "pygments_lexer": "ipython3",
   "version": "3.7.6"
  }
 },
 "nbformat": 4,
 "nbformat_minor": 4
}
