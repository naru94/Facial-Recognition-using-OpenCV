{
 "cells": [
  {
   "cell_type": "code",
   "execution_count": 1,
   "metadata": {},
   "outputs": [],
   "source": [
    "import numpy as np\n",
    "import cv2"
   ]
  },
  {
   "cell_type": "code",
   "execution_count": 2,
   "metadata": {},
   "outputs": [],
   "source": [
    "# read images\n",
    "lena = cv2.imread(\"Lena.png\")"
   ]
  },
  {
   "cell_type": "code",
   "execution_count": 3,
   "metadata": {},
   "outputs": [],
   "source": [
    "# create windows\n",
    "# namedWindow() function has two parameters: \n",
    "# 1st - constant string with the window's name\n",
    "# 2nd - optional flags\n",
    "# default flag = cv2.WINDOW_AUTOSIZE\n",
    "\n",
    "cv2.namedWindow(\"Lena NORMAL\",cv2.WINDOW_NORMAL)\n",
    "cv2.namedWindow(\"Lena AUTOSIZE\",cv2.WINDOW_AUTOSIZE)\n",
    "cv2.namedWindow(\"Lena RESIZED\",cv2.WINDOW_NORMAL)\n",
    "\n",
    "# • cv2.WINDOW_NORMAL: Allows the user to resize the window\n",
    "# • cv2.WINDOW_AUTOSIZE: The window size is automatically adjusted to fit the display image and it is not possible to resize the window\n",
    "# • cv2.WINDOW_OPENGL: This flag enables OpenGL support\n",
    "\n",
    "# QT has some more flags\n",
    "# • WINDOW_FREERATIO or WINDOW_KEEPRATIO: If set to WINDOW_FREERATIO, then the image is adjusted with no respect to its ratio. If set to WINDOW_FREERATIO, then the image is adjusted with respect to its ratio.\n",
    "# • CV_GUI_NORMAL or CV_GUI_EXPANDED: The first flag enables the basic interface without the status bar and toolbar. The second flag enables the most advanced graphical user interface with the status bar and toolbar.\n",
    "# default flags = cv2.WINDOW_AUTOSIZE | WINDOW_KEEPRATIO |  CV_GUI_EXPANDED\n",
    "\n",
    "# move window\n",
    "cv2.moveWindow(\"Lena NORMAL\", 0, 0);\n",
    "cv2.moveWindow(\"Lena AUTOSIZE\", 220, 0)\n",
    "cv2.moveWindow(\"Lena RESIZED\", 440, 0)\n",
    "\n",
    "#Resize window, only non-autosize\n",
    "cv2.resizeWindow(\"Lena RESIZED\", 440, 440);\n",
    "\n",
    "# show images\n",
    "cv2.imshow(\"Lena NORMAL\",lena)\n",
    "cv2.imshow(\"Lena AUTOSIZE\",lena)\n",
    "cv2.imshow(\"Lena RESIZED\",lena)\n",
    "\n",
    "# wait key function\n",
    "cv2.waitKey(0)\n",
    "\n",
    "# destroy the windows\n",
    "cv2.destroyWindow(\"Lena NORMAL\")\n",
    "cv2.destroyWindow(\"Lena AUTOSIZE\")\n",
    "cv2.destroyWindow(\"Lena RESIZED\")"
   ]
  },
  {
   "cell_type": "code",
   "execution_count": null,
   "metadata": {},
   "outputs": [],
   "source": []
  }
 ],
 "metadata": {
  "kernelspec": {
   "display_name": "Python 3",
   "language": "python",
   "name": "python3"
  },
  "language_info": {
   "codemirror_mode": {
    "name": "ipython",
    "version": 3
   },
   "file_extension": ".py",
   "mimetype": "text/x-python",
   "name": "python",
   "nbconvert_exporter": "python",
   "pygments_lexer": "ipython3",
   "version": "3.7.6"
  }
 },
 "nbformat": 4,
 "nbformat_minor": 4
}
