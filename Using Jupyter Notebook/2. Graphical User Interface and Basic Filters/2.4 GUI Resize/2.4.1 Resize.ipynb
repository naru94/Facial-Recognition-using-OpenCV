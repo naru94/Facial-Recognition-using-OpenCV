{
 "cells": [
  {
   "cell_type": "code",
   "execution_count": 1,
   "metadata": {},
   "outputs": [],
   "source": [
    "import numpy as np\n",
    "import cv2"
   ]
  },
  {
   "cell_type": "code",
   "execution_count": 2,
   "metadata": {},
   "outputs": [],
   "source": [
    "# Read image\n",
    "lena = cv2.imread(\"Lena.png\",1)"
   ]
  },
  {
   "cell_type": "code",
   "execution_count": 3,
   "metadata": {},
   "outputs": [],
   "source": [
    "# resize\n",
    "# • 1st - input image\n",
    "# • 2nd - desired size for the output\n",
    "# • 3rd - [optional] scale factor along the horizontal axis\n",
    "# • 4th - [optional] scale factor along the vertical axis\n",
    "\n",
    "# Do not preserve Aspect Ratio\n",
    "lena_half = cv2.resize(lena, (0,0), fx=0.5, fy=0.5)"
   ]
  },
  {
   "cell_type": "code",
   "execution_count": 4,
   "metadata": {},
   "outputs": [],
   "source": [
    "# Preserve Aspect Ratio\n",
    "lena_stretch = cv2.resize(lena, (300,300))"
   ]
  },
  {
   "cell_type": "code",
   "execution_count": 5,
   "metadata": {},
   "outputs": [],
   "source": [
    "# Interpolation methods\n",
    "lena_stretch_near = cv2.resize(lena, (600,600), interpolation=cv2.INTER_NEAREST)\n",
    "# • INTER_NEAREST – a nearest-neighbor interpolation \n",
    "# • INTER_LINEAR – a bilinear interpolation (used by default) \n",
    "# • INTER_AREA – resampling using pixel area relation. It may be a preferred method for image decimation, as it gives moire’-free results. But when the image is zoomed, it is similar to the INTER_NEAREST method. \n",
    "# • INTER_CUBIC – a bicubic interpolation over 4×4 pixel neighborhood \n",
    "# • INTER_LANCZOS4 – a Lanczos interpolation over 8×8 pixel neighborhood"
   ]
  },
  {
   "cell_type": "code",
   "execution_count": 6,
   "metadata": {},
   "outputs": [],
   "source": [
    "# Show image\n",
    "cv2.imshow(\"Lena Half\",lena_half)\n",
    "cv2.imshow(\"Lena Stretch\",lena_stretch)\n",
    "cv2.imshow(\"Lena Stretch near\",lena_stretch_near)\n",
    "\n",
    "# Write image\n",
    "cv2.imwrite(\"Lena half.jpg\",lena_stretch)\n",
    "cv2.imwrite(\"Lena Stretch.jpg\",lena_stretch)\n",
    "cv2.imwrite(\"Lena Stretch near.jpg\",lena_stretch_near)\n",
    "\n",
    "# wait app for a key to exit\n",
    "cv2.waitKey(0)\n",
    "\n",
    "# Destroy the windows\n",
    "cv2.destroyAllWindows();"
   ]
  },
  {
   "cell_type": "code",
   "execution_count": null,
   "metadata": {},
   "outputs": [],
   "source": []
  }
 ],
 "metadata": {
  "kernelspec": {
   "display_name": "Python 3",
   "language": "python",
   "name": "python3"
  },
  "language_info": {
   "codemirror_mode": {
    "name": "ipython",
    "version": 3
   },
   "file_extension": ".py",
   "mimetype": "text/x-python",
   "name": "python",
   "nbconvert_exporter": "python",
   "pygments_lexer": "ipython3",
   "version": "3.7.6"
  }
 },
 "nbformat": 4,
 "nbformat_minor": 4
}
