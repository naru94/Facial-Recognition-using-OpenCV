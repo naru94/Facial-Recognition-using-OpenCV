{
 "cells": [
  {
   "cell_type": "code",
   "execution_count": 1,
   "metadata": {},
   "outputs": [],
   "source": [
    "import numpy as np\n",
    "import cv2"
   ]
  },
  {
   "cell_type": "code",
   "execution_count": 2,
   "metadata": {},
   "outputs": [],
   "source": [
    "# open the default camera\n",
    "cap = cv2.VideoCapture(0)\n",
    "\n",
    "# define the path for the haarcascade classifier\n",
    "path = \"haarcascade_frontalface_default.xml\"\n",
    "\n",
    "# define the haarcascade \n",
    "face_cascade = cv2.CascadeClassifier(path)"
   ]
  },
  {
   "cell_type": "code",
   "execution_count": 4,
   "metadata": {},
   "outputs": [],
   "source": [
    "while(True):\n",
    "    ret, frame = cap.read()\n",
    "\n",
    "    frame = cv2.resize(frame, (0,0), fx=0.5,fy=0.5)\n",
    "    faces = face_cascade.detectMultiScale(frame, scaleFactor=1.10, minNeighbors=5, minSize=(40,40))\n",
    "\n",
    "    for (x, y, w, h) in faces:\n",
    "       cv2.rectangle(frame, (x,y), (x+w,y+h), (0,255,0), 2)\n",
    "    cv2.imshow(\"Frame\",frame)\n",
    "\n",
    "    ch = cv2.waitKey(1)\n",
    "    if ch & 0xFF == ord('q'):\n",
    "        break\n",
    "\n",
    "# release the camera or video cap\n",
    "cap.release()\n",
    "# It is very important to release all the resources that we use in a Computer Vision application; if we do not do it, we can consume all the RAM memory. \n",
    "# We can release the matrices with the release function.\n",
    "\n",
    "# destroy all windows\n",
    "cv2.destroyAllWindows()"
   ]
  },
  {
   "cell_type": "code",
   "execution_count": null,
   "metadata": {},
   "outputs": [],
   "source": []
  }
 ],
 "metadata": {
  "kernelspec": {
   "display_name": "Python 3",
   "language": "python",
   "name": "python3"
  },
  "language_info": {
   "codemirror_mode": {
    "name": "ipython",
    "version": 3
   },
   "file_extension": ".py",
   "mimetype": "text/x-python",
   "name": "python",
   "nbconvert_exporter": "python",
   "pygments_lexer": "ipython3",
   "version": "3.7.6"
  }
 },
 "nbformat": 4,
 "nbformat_minor": 4
}
