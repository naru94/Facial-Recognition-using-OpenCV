{
 "cells": [
  {
   "cell_type": "code",
   "execution_count": 1,
   "metadata": {},
   "outputs": [],
   "source": [
    "import numpy as np\n",
    "import cv2"
   ]
  },
  {
   "cell_type": "code",
   "execution_count": 6,
   "metadata": {},
   "outputs": [],
   "source": [
    "# open the default camera\n",
    "cap = cv2.VideoCapture(0)\n",
    "\n",
    "# define the path for the haarcascade classifier\n",
    "path = \"haarcascade_eye.xml\"\n",
    "\n",
    "# define the haarcascade \n",
    "eye_cascade = cv2.CascadeClassifier(path)"
   ]
  },
  {
   "cell_type": "code",
   "execution_count": 7,
   "metadata": {},
   "outputs": [],
   "source": [
    "while(True):\n",
    "    ret, frame = cap.read()\n",
    "\n",
    "    frame = cv2.resize(frame, (0,0), fx=0.5,fy=0.5)\n",
    "    eyes = eye_cascade.detectMultiScale(frame, scaleFactor=1.02,minNeighbors=20,minSize=(10,10))\n",
    "\n",
    "    for (x, y, w, h) in eyes:\n",
    "        xc = (x + x+w)/2\n",
    "        yc = (y + y+h)/2\n",
    "        radius = w/2\n",
    "        cv2.circle(frame, (int(xc),int(yc)), int(radius), (255,0,0), 2)\n",
    "    cv2.imshow(\"Frame\",frame)\n",
    "\n",
    "    ch = cv2.waitKey(1)\n",
    "    if ch & 0xFF == ord('q'):\n",
    "        break\n",
    "\n",
    "# release the camera or video cap\n",
    "cap.release()\n",
    "# It is very important to release all the resources that we use in a Computer Vision application; if we do not do it, we can consume all the RAM memory. \n",
    "# We can release the matrices with the release function.\n",
    "\n",
    "# destroy all windows\n",
    "cv2.destroyAllWindows()"
   ]
  },
  {
   "cell_type": "code",
   "execution_count": null,
   "metadata": {},
   "outputs": [],
   "source": []
  }
 ],
 "metadata": {
  "kernelspec": {
   "display_name": "Python 3",
   "language": "python",
   "name": "python3"
  },
  "language_info": {
   "codemirror_mode": {
    "name": "ipython",
    "version": 3
   },
   "file_extension": ".py",
   "mimetype": "text/x-python",
   "name": "python",
   "nbconvert_exporter": "python",
   "pygments_lexer": "ipython3",
   "version": "3.7.6"
  }
 },
 "nbformat": 4,
 "nbformat_minor": 4
}
