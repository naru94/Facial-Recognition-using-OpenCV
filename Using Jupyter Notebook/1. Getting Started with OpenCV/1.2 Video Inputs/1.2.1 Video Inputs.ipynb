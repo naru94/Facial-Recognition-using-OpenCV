{
 "cells": [
  {
   "cell_type": "code",
   "execution_count": 1,
   "metadata": {},
   "outputs": [],
   "source": [
    "import numpy as np\n",
    "import cv2"
   ]
  },
  {
   "cell_type": "code",
   "execution_count": 2,
   "metadata": {},
   "outputs": [],
   "source": [
    "# open the default camera\n",
    "cap = cv2.VideoCapture(0)"
   ]
  },
  {
   "cell_type": "code",
   "execution_count": 3,
   "metadata": {},
   "outputs": [
    {
     "name": "stdout",
     "output_type": "stream",
     "text": [
      "True\n"
     ]
    }
   ],
   "source": [
    "# get a new frame from camera\n",
    "# returns two values - ret, frame\n",
    "# ret == true if (frame != 0)\n",
    "ret, frame = cap.read()\n",
    "print(ret)"
   ]
  },
  {
   "cell_type": "code",
   "execution_count": 4,
   "metadata": {},
   "outputs": [],
   "source": [
    "while(True):\n",
    "\n",
    "    # get a new frame from camera\n",
    "    # returns two values - ret, frame\n",
    "    # ret == true if (frame != 0)\n",
    "    ret, frame = cap.read()\n",
    "\n",
    "    # To check whether we can read the video filename or the camera\n",
    "    if(ret == True):\n",
    "        # resize the video frame to reduce the number of pixels\n",
    "        frame = cv2.resize(frame, (0,0), fx=1,fy=1)\n",
    "\n",
    "        # show the frame\n",
    "        cv2.imshow(\"Frame\",frame)\n",
    "\n",
    "        # wait for 1 milli-sec\n",
    "        ch = cv2.waitKey(500)\n",
    "        # To choose a good value to wait for the next frame, using a camera access is calculated from the speed of the camera. \n",
    "        # For example, if a camera works at 20 FPS, a great wait value is 50 = 1000/20.\n",
    "\n",
    "        # if key 'q' is pressed close the video \n",
    "        if ch & 0xFF == ord('q'):\n",
    "            break\n",
    "\n",
    "    # camera is not connected properly or video file is corrupted\n",
    "    else:\n",
    "        print(\"Check if camera is connected properly\")\n",
    "        break\n",
    "\n",
    "# release the camera or video cap\n",
    "cap.release()\n",
    "# It is very important to release all the resources that we use in a Computer Vision application; if we do not do it, we can consume all the RAM memory. \n",
    "# We can release the matrices with the release function.\n",
    "\n",
    "# destroy all windows\n",
    "cv2.destroyAllWindows()"
   ]
  },
  {
   "cell_type": "code",
   "execution_count": null,
   "metadata": {},
   "outputs": [],
   "source": []
  }
 ],
 "metadata": {
  "kernelspec": {
   "display_name": "Python 3",
   "language": "python",
   "name": "python3"
  },
  "language_info": {
   "codemirror_mode": {
    "name": "ipython",
    "version": 3
   },
   "file_extension": ".py",
   "mimetype": "text/x-python",
   "name": "python",
   "nbconvert_exporter": "python",
   "pygments_lexer": "ipython3",
   "version": "3.7.6"
  }
 },
 "nbformat": 4,
 "nbformat_minor": 4
}
