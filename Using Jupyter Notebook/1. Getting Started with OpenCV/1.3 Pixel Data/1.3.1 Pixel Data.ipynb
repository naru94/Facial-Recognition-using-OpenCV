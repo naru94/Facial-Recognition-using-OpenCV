{
 "cells": [
  {
   "cell_type": "code",
   "execution_count": 1,
   "metadata": {},
   "outputs": [],
   "source": [
    "import numpy as np\n",
    "import cv2\n",
    "img = cv2.imread(\"Flower.png\", cv2.IMREAD_UNCHANGED)"
   ]
  },
  {
   "cell_type": "code",
   "execution_count": 2,
   "metadata": {},
   "outputs": [
    {
     "data": {
      "text/plain": [
       "array([[[177, 171, 142],\n",
       "        [180, 174, 145],\n",
       "        [178, 172, 143],\n",
       "        ...,\n",
       "        [183, 177, 154],\n",
       "        [183, 177, 154],\n",
       "        [183, 177, 154]],\n",
       "\n",
       "       [[179, 173, 144],\n",
       "        [181, 175, 146],\n",
       "        [179, 173, 144],\n",
       "        ...,\n",
       "        [185, 179, 156],\n",
       "        [186, 180, 157],\n",
       "        [186, 180, 157]],\n",
       "\n",
       "       [[179, 173, 144],\n",
       "        [181, 175, 146],\n",
       "        [179, 173, 144],\n",
       "        ...,\n",
       "        [185, 179, 156],\n",
       "        [187, 181, 158],\n",
       "        [187, 181, 158]],\n",
       "\n",
       "       ...,\n",
       "\n",
       "       [[166, 154, 118],\n",
       "        [170, 158, 122],\n",
       "        [169, 157, 121],\n",
       "        ...,\n",
       "        [177, 167, 133],\n",
       "        [177, 167, 133],\n",
       "        [177, 167, 133]],\n",
       "\n",
       "       [[162, 150, 114],\n",
       "        [165, 153, 117],\n",
       "        [162, 150, 114],\n",
       "        ...,\n",
       "        [178, 168, 134],\n",
       "        [177, 167, 133],\n",
       "        [177, 167, 133]],\n",
       "\n",
       "       [[161, 149, 113],\n",
       "        [160, 148, 112],\n",
       "        [154, 142, 106],\n",
       "        ...,\n",
       "        [178, 168, 134],\n",
       "        [178, 168, 134],\n",
       "        [178, 168, 134]]], dtype=uint8)"
      ]
     },
     "execution_count": 2,
     "metadata": {},
     "output_type": "execute_result"
    }
   ],
   "source": [
    "# Display the img in the pixel data form\n",
    "img"
   ]
  },
  {
   "cell_type": "code",
   "execution_count": 3,
   "metadata": {},
   "outputs": [
    {
     "data": {
      "text/plain": [
       "numpy.ndarray"
      ]
     },
     "execution_count": 3,
     "metadata": {},
     "output_type": "execute_result"
    }
   ],
   "source": [
    "# Display the type of image\n",
    "type(img)"
   ]
  },
  {
   "cell_type": "code",
   "execution_count": 4,
   "metadata": {},
   "outputs": [],
   "source": [
    "# Graphics industry standard is width by height (width x height)"
   ]
  },
  {
   "cell_type": "code",
   "execution_count": 5,
   "metadata": {},
   "outputs": [
    {
     "data": {
      "text/plain": [
       "3507"
      ]
     },
     "execution_count": 5,
     "metadata": {},
     "output_type": "execute_result"
    }
   ],
   "source": [
    "# Display the len(image)\n",
    "# len(img) = number of rows\n",
    "# len(img) = height of an image\n",
    "len(img)"
   ]
  },
  {
   "cell_type": "code",
   "execution_count": 6,
   "metadata": {},
   "outputs": [
    {
     "data": {
      "text/plain": [
       "5261"
      ]
     },
     "execution_count": 6,
     "metadata": {},
     "output_type": "execute_result"
    }
   ],
   "source": [
    "# Display the len(image[0])\n",
    "# len(img[0]) = length of a row = number of coloumns\n",
    "# len(img) = width of an image\n",
    "len(img[0])"
   ]
  },
  {
   "cell_type": "code",
   "execution_count": 7,
   "metadata": {},
   "outputs": [
    {
     "data": {
      "text/plain": [
       "3"
      ]
     },
     "execution_count": 7,
     "metadata": {},
     "output_type": "execute_result"
    }
   ],
   "source": [
    "len(img[0][0])"
   ]
  },
  {
   "cell_type": "code",
   "execution_count": 8,
   "metadata": {},
   "outputs": [
    {
     "data": {
      "text/plain": [
       "(3507, 5261, 3)"
      ]
     },
     "execution_count": 8,
     "metadata": {},
     "output_type": "execute_result"
    }
   ],
   "source": [
    "img.shape"
   ]
  },
  {
   "cell_type": "code",
   "execution_count": 9,
   "metadata": {},
   "outputs": [
    {
     "data": {
      "text/plain": [
       "dtype('uint8')"
      ]
     },
     "execution_count": 9,
     "metadata": {},
     "output_type": "execute_result"
    }
   ],
   "source": [
    "img.dtype"
   ]
  },
  {
   "cell_type": "code",
   "execution_count": 10,
   "metadata": {},
   "outputs": [
    {
     "data": {
      "text/plain": [
       "256"
      ]
     },
     "execution_count": 10,
     "metadata": {},
     "output_type": "execute_result"
    }
   ],
   "source": [
    "2**8"
   ]
  },
  {
   "cell_type": "code",
   "execution_count": 11,
   "metadata": {},
   "outputs": [
    {
     "data": {
      "text/plain": [
       "array([179, 174, 143], dtype=uint8)"
      ]
     },
     "execution_count": 11,
     "metadata": {},
     "output_type": "execute_result"
    }
   ],
   "source": [
    "img[10, 5]"
   ]
  },
  {
   "cell_type": "code",
   "execution_count": 12,
   "metadata": {},
   "outputs": [
    {
     "data": {
      "text/plain": [
       "array([[177, 180, 178, ..., 183, 183, 183],\n",
       "       [179, 181, 179, ..., 185, 186, 186],\n",
       "       [179, 181, 179, ..., 185, 187, 187],\n",
       "       ...,\n",
       "       [166, 170, 169, ..., 177, 177, 177],\n",
       "       [162, 165, 162, ..., 178, 177, 177],\n",
       "       [161, 160, 154, ..., 178, 178, 178]], dtype=uint8)"
      ]
     },
     "execution_count": 12,
     "metadata": {},
     "output_type": "execute_result"
    }
   ],
   "source": [
    "img[:, :, 0]"
   ]
  },
  {
   "cell_type": "code",
   "execution_count": 13,
   "metadata": {},
   "outputs": [
    {
     "data": {
      "text/plain": [
       "array([[171, 174, 172, ..., 177, 177, 177],\n",
       "       [173, 175, 173, ..., 179, 180, 180],\n",
       "       [173, 175, 173, ..., 179, 181, 181],\n",
       "       ...,\n",
       "       [154, 158, 157, ..., 167, 167, 167],\n",
       "       [150, 153, 150, ..., 168, 167, 167],\n",
       "       [149, 148, 142, ..., 168, 168, 168]], dtype=uint8)"
      ]
     },
     "execution_count": 13,
     "metadata": {},
     "output_type": "execute_result"
    }
   ],
   "source": [
    "img[:, :, 1]"
   ]
  },
  {
   "cell_type": "code",
   "execution_count": 14,
   "metadata": {},
   "outputs": [
    {
     "data": {
      "text/plain": [
       "array([[142, 145, 143, ..., 154, 154, 154],\n",
       "       [144, 146, 144, ..., 156, 157, 157],\n",
       "       [144, 146, 144, ..., 156, 158, 158],\n",
       "       ...,\n",
       "       [118, 122, 121, ..., 133, 133, 133],\n",
       "       [114, 117, 114, ..., 134, 133, 133],\n",
       "       [113, 112, 106, ..., 134, 134, 134]], dtype=uint8)"
      ]
     },
     "execution_count": 14,
     "metadata": {},
     "output_type": "execute_result"
    }
   ],
   "source": [
    "img[:, :, 2]"
   ]
  },
  {
   "cell_type": "code",
   "execution_count": 15,
   "metadata": {},
   "outputs": [
    {
     "data": {
      "text/plain": [
       "55350981"
      ]
     },
     "execution_count": 15,
     "metadata": {},
     "output_type": "execute_result"
    }
   ],
   "source": [
    "img.size"
   ]
  },
  {
   "cell_type": "code",
   "execution_count": 16,
   "metadata": {},
   "outputs": [
    {
     "data": {
      "text/plain": [
       "55350981"
      ]
     },
     "execution_count": 16,
     "metadata": {},
     "output_type": "execute_result"
    }
   ],
   "source": [
    "3507*5261*3"
   ]
  },
  {
   "cell_type": "code",
   "execution_count": null,
   "metadata": {},
   "outputs": [],
   "source": []
  }
 ],
 "metadata": {
  "kernelspec": {
   "display_name": "Python 3",
   "language": "python",
   "name": "python3"
  },
  "language_info": {
   "codemirror_mode": {
    "name": "ipython",
    "version": 3
   },
   "file_extension": ".py",
   "mimetype": "text/x-python",
   "name": "python",
   "nbconvert_exporter": "python",
   "pygments_lexer": "ipython3",
   "version": "3.7.6"
  }
 },
 "nbformat": 4,
 "nbformat_minor": 4
}
