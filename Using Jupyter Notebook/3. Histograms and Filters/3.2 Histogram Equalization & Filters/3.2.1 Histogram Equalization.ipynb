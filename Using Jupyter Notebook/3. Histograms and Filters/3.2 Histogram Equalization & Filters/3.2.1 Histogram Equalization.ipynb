{
 "cells": [
  {
   "cell_type": "code",
   "execution_count": 1,
   "metadata": {},
   "outputs": [],
   "source": [
    "import numpy as np\n",
    "import cv2"
   ]
  },
  {
   "cell_type": "code",
   "execution_count": 2,
   "metadata": {},
   "outputs": [],
   "source": [
    "# read images\n",
    "lena = cv2.imread(\"Lena.png\")"
   ]
  },
  {
   "cell_type": "code",
   "execution_count": 3,
   "metadata": {},
   "outputs": [],
   "source": [
    "# create windows\n",
    "cv2.namedWindow(\"Lena\",cv2.WINDOW_NORMAL)\n",
    "cv2.namedWindow(\"Lena Equalized\",cv2.WINDOW_NORMAL)\n",
    "\n",
    "# move windows\n",
    "cv2.moveWindow(\"Lena\", 10, 10)\n",
    "cv2.moveWindow(\"Lena Equalized\", 10, 222)\n",
    "\n",
    "# Convert color BGR to YCrCb\n",
    "lena_YCrCb = cv2.cvtColor(lena, cv2.COLOR_BGR2YCrCb)\n",
    "\n",
    "# Split image into channels\n",
    "Y,Cr,Cb = cv2.split(lena_YCrCb)\n",
    "\n",
    "# Equalize the Y channel only\n",
    "Y = cv2.equalizeHist(Y)\n",
    "\n",
    "# Merge the result channels\n",
    "lena_YCrCb = cv2.merge([Y,Cr,Cb])\n",
    "\n",
    "# Convert color YCrCb to BGR\n",
    "lena_EQUALIZED = cv2.cvtColor(lena_YCrCb, cv2.COLOR_YCrCb2BGR)\n",
    "\n",
    "# show images\n",
    "cv2.imshow(\"Lena\", lena)\n",
    "cv2.imshow(\"Lena Equalized\", lena_EQUALIZED)\n",
    "\n",
    "# wait key function\n",
    "cv2.waitKey(0)\n",
    "\n",
    "# destroys all windows\n",
    "cv2.destroyAllWindows()"
   ]
  },
  {
   "cell_type": "code",
   "execution_count": null,
   "metadata": {},
   "outputs": [],
   "source": []
  }
 ],
 "metadata": {
  "kernelspec": {
   "display_name": "Python 3",
   "language": "python",
   "name": "python3"
  },
  "language_info": {
   "codemirror_mode": {
    "name": "ipython",
    "version": 3
   },
   "file_extension": ".py",
   "mimetype": "text/x-python",
   "name": "python",
   "nbconvert_exporter": "python",
   "pygments_lexer": "ipython3",
   "version": "3.7.6"
  }
 },
 "nbformat": 4,
 "nbformat_minor": 4
}
