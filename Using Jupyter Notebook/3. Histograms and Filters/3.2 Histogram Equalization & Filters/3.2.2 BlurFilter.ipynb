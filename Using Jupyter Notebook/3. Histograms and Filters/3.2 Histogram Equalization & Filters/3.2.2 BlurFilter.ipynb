{
 "cells": [
  {
   "cell_type": "code",
   "execution_count": 1,
   "metadata": {},
   "outputs": [],
   "source": [
    "import numpy as np\n",
    "import cv2"
   ]
  },
  {
   "cell_type": "code",
   "execution_count": 3,
   "metadata": {},
   "outputs": [],
   "source": [
    "# read images\n",
    "lena = cv2.imread(\"Lena.png\")\n",
    "\n",
    "# create windows\n",
    "cv2.namedWindow(\"Lena\",cv2.WINDOW_AUTOSIZE)\n",
    "\n",
    "# Create image for halo dark\n",
    "ones = np.ones([len(lena[0]),len(lena),3],'float32')\n",
    "halo = ones*0.3\n",
    "             \n",
    "# Create circle\n",
    "cv2.circle(halo, (int((len(lena[0]))/2), int((len(lena[0]))/2)), int((len(lena[0]))/3), (1,1,1), -1)\n",
    "\n",
    "halo = cv2.blur(halo, (int((len(lena[0]))/2), int((len(lena[0]))/2)))\n",
    "\n",
    "cv2.imshow(\"Halo\", halo)\n",
    "cv2.imshow(\"Lena\", lena)\n",
    "\n",
    "# wait key function\n",
    "cv2.waitKey(0)\n",
    "\n",
    "# destroys all windows\n",
    "cv2.destroyAllWindows()"
   ]
  },
  {
   "cell_type": "code",
   "execution_count": null,
   "metadata": {},
   "outputs": [],
   "source": []
  }
 ],
 "metadata": {
  "kernelspec": {
   "display_name": "Python 3",
   "language": "python",
   "name": "python3"
  },
  "language_info": {
   "codemirror_mode": {
    "name": "ipython",
    "version": 3
   },
   "file_extension": ".py",
   "mimetype": "text/x-python",
   "name": "python",
   "nbconvert_exporter": "python",
   "pygments_lexer": "ipython3",
   "version": "3.7.6"
  }
 },
 "nbformat": 4,
 "nbformat_minor": 4
}
