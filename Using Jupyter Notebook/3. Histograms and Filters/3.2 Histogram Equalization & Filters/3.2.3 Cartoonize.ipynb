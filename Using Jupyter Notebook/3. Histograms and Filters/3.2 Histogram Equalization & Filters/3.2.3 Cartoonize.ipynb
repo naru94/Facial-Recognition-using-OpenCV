{
 "cells": [
  {
   "cell_type": "code",
   "execution_count": 6,
   "metadata": {},
   "outputs": [],
   "source": [
    "import numpy as np\n",
    "import cv2"
   ]
  },
  {
   "cell_type": "code",
   "execution_count": 7,
   "metadata": {},
   "outputs": [],
   "source": [
    "# read images\n",
    "lena = cv2.imread(\"Lena.png\")"
   ]
  },
  {
   "cell_type": "code",
   "execution_count": 8,
   "metadata": {},
   "outputs": [],
   "source": [
    "# Apply median filter to remove possible noise\n",
    "lena_MEDIAN=cv2.medianBlur(lena, 7)\n",
    "# • src − A Mat object representing the source (input image) for this operation\n",
    "# • dst − A Mat object representing the destination (output image) for this operation\n",
    "# • ksize − A Size object representing the size of the kernel"
   ]
  },
  {
   "cell_type": "code",
   "execution_count": 9,
   "metadata": {},
   "outputs": [],
   "source": [
    "# Detect edges with canny\n",
    "lenaCanny = cv2.Canny(lena_MEDIAN, 70, 100)\n",
    "# • An input image\n",
    "# • The first threshold\n",
    "# • The second threshold\n",
    "# • The Sobel size aperture\n",
    "# • The Boolean value to check whether to use a more accurate image gradient magnitude"
   ]
  },
  {
   "cell_type": "code",
   "execution_count": 10,
   "metadata": {},
   "outputs": [],
   "source": [
    "# Dilate the edges\n",
    "kernel = np.ones((3,3),'uint8')\n",
    "lenaCannyd = cv2.dilate(lenaCanny, kernel, iterations=1)"
   ]
  },
  {
   "cell_type": "code",
   "execution_count": 11,
   "metadata": {},
   "outputs": [],
   "source": [
    "# Scale edges values to 1 and invert values\n",
    "lenaCannyd= lenaCannyd/255\n",
    "lenaCannyd= 1-lenaCannyd"
   ]
  },
  {
   "cell_type": "code",
   "execution_count": 12,
   "metadata": {},
   "outputs": [],
   "source": [
    "# Use float values to allow multiply between 0 and 1\n",
    "lenaCannyf = np.float32(lenaCannyd)"
   ]
  },
  {
   "cell_type": "code",
   "execution_count": 13,
   "metadata": {},
   "outputs": [],
   "source": [
    "# Blur the edgest to do smooth effect\n",
    "lenaCannyf = cv2.blur(lenaCannyf, (5,5))"
   ]
  },
  {
   "cell_type": "code",
   "execution_count": 14,
   "metadata": {},
   "outputs": [],
   "source": [
    "# Apply bilateral filter to homogenizes color\n",
    "lenaBF = cv2.bilateralFilter(lena, 5, 150.0, 150.0)\n",
    "# The bilateral filter parameters are as follows:\n",
    "# • An input image\n",
    "# • An output image\n",
    "# • The diameter of a pixel neighborhood; if it's set to negative, it is computed from a sigma space value\n",
    "# • A sigma color value\n",
    "# • A sigma coordinate space"
   ]
  },
  {
   "cell_type": "code",
   "execution_count": 15,
   "metadata": {},
   "outputs": [],
   "source": [
    "# truncate colors\n",
    "lenaResult= lenaBF/25\n",
    "lenaResult= lenaResult*25"
   ]
  },
  {
   "cell_type": "code",
   "execution_count": 16,
   "metadata": {},
   "outputs": [],
   "source": [
    "# Create a 3 channles for edges\n",
    "lenaCanny3c = cv2.merge([lenaCannyf,lenaCannyf,lenaCannyf])"
   ]
  },
  {
   "cell_type": "code",
   "execution_count": 17,
   "metadata": {},
   "outputs": [],
   "source": [
    "# Convert color result to float\n",
    "lenaResultf = np.float32(lenaResult)"
   ]
  },
  {
   "cell_type": "code",
   "execution_count": 18,
   "metadata": {},
   "outputs": [],
   "source": [
    "# Multiply color and edges matrices\n",
    "lenaResultf = cv2.multiply(lenaCanny3c, lenaResultf)"
   ]
  },
  {
   "cell_type": "code",
   "execution_count": 19,
   "metadata": {},
   "outputs": [],
   "source": [
    "# convert to 8 bits color\n",
    "lenaResult = np.uint8(lenaResultf)"
   ]
  },
  {
   "cell_type": "code",
   "execution_count": 24,
   "metadata": {},
   "outputs": [],
   "source": [
    "# create windows\n",
    "cv2.namedWindow(\"Lena\",cv2.WINDOW_AUTOSIZE)\n",
    "cv2.namedWindow(\"Lena Median Filter\",cv2.WINDOW_AUTOSIZE)\n",
    "cv2.namedWindow(\"Lena Canny Edges\",cv2.WINDOW_AUTOSIZE)\n",
    "cv2.namedWindow(\"Lena Canny Edges Dilated\",cv2.WINDOW_AUTOSIZE)\n",
    "cv2.namedWindow(\"Lena Bilateral Filter\",cv2.WINDOW_AUTOSIZE)\n",
    "cv2.namedWindow(\"Lena Cartoonize\",cv2.WINDOW_AUTOSIZE)\n",
    "\n",
    "cv2.moveWindow(\"Lena\", 0, 0)\n",
    "cv2.moveWindow(\"Lena Median Filter\", 220, 0)\n",
    "cv2.moveWindow(\"Lena Canny Edges\", 440, 0)\n",
    "cv2.moveWindow(\"Lena Canny Edges Dilated\", 660, 0)\n",
    "cv2.moveWindow(\"Lena Bilateral Filter\", 880, 0)\n",
    "cv2.moveWindow(\"Lena Cartoonize\", 1100, 0)\n",
    "\n",
    "# Show image\n",
    "cv2.imshow(\"Lena\", lena)\n",
    "cv2.imshow(\"Lena Median Filter\", lena_MEDIAN)\n",
    "cv2.imshow(\"Lena Canny Edges\", lenaCanny)\n",
    "cv2.imshow(\"Lena Canny Edges Dilated\", lenaCannyd)\n",
    "cv2.imshow(\"Lena Bilateral Filter\", lenaBF)\n",
    "cv2.imshow(\"Lena Cartoonize\", lenaResult)\n",
    "\n",
    "# wait key function\n",
    "cv2.waitKey(0)\n",
    "\n",
    "# destroys all windows\n",
    "cv2.destroyAllWindows()"
   ]
  },
  {
   "cell_type": "code",
   "execution_count": null,
   "metadata": {},
   "outputs": [],
   "source": []
  }
 ],
 "metadata": {
  "kernelspec": {
   "display_name": "Python 3",
   "language": "python",
   "name": "python3"
  },
  "language_info": {
   "codemirror_mode": {
    "name": "ipython",
    "version": 3
   },
   "file_extension": ".py",
   "mimetype": "text/x-python",
   "name": "python",
   "nbconvert_exporter": "python",
   "pygments_lexer": "ipython3",
   "version": "3.7.6"
  }
 },
 "nbformat": 4,
 "nbformat_minor": 4
}
