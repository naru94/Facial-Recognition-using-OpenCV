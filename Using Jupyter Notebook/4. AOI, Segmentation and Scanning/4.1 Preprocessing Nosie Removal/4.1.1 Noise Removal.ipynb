{
 "cells": [
  {
   "cell_type": "code",
   "execution_count": 1,
   "metadata": {},
   "outputs": [],
   "source": [
    "import numpy as np\n",
    "import cv2"
   ]
  },
  {
   "cell_type": "code",
   "execution_count": 2,
   "metadata": {},
   "outputs": [],
   "source": [
    "# read images\n",
    "img = cv2.imread(\"Img.jpg\")\n",
    "patternS = cv2.imread(\"Pattern.jpg\")"
   ]
  },
  {
   "cell_type": "code",
   "execution_count": 3,
   "metadata": {},
   "outputs": [],
   "source": [
    "# Apply median blur\n",
    "img_noise = cv2.medianBlur(img, 3)\n",
    "patternS_noise = cv2.medianBlur(patternS, 3)\n",
    "# • An input image with a 1, 3, or 4 channel image. When the kernel size is greater than 5, the image depth can only be CV_8U\n",
    "# • An output image,which is the resulting image, that has the same type and depth as that of the input\n",
    "# • The kernel size that has the aperture size greater than 1 and an odd value. For example, 3, 5, 7"
   ]
  },
  {
   "cell_type": "code",
   "execution_count": 5,
   "metadata": {},
   "outputs": [],
   "source": [
    "# create windows\n",
    "cv2.namedWindow(\"Image\",cv2.WINDOW_AUTOSIZE)\n",
    "cv2.namedWindow(\"PatternS\",cv2.WINDOW_AUTOSIZE)\n",
    "cv2.namedWindow(\"NRImage\",cv2.WINDOW_AUTOSIZE)\n",
    "cv2.namedWindow(\"NRPatternS\",cv2.WINDOW_AUTOSIZE)\n",
    "\n",
    "# Position Window with images\n",
    "cv2.moveWindow(\"Image\", 0, 0)\n",
    "cv2.moveWindow(\"PatternS\", 320, 0)\n",
    "cv2.moveWindow(\"NRImage\", 640, 0)\n",
    "cv2.moveWindow(\"NRPatternS\", 960, 0)\n",
    "\n",
    "# Show images\n",
    "cv2.imshow(\"Image\", img)\n",
    "cv2.imshow(\"PatternS\", patternS)\n",
    "cv2.imshow(\"NRImage\", img_noise)\n",
    "cv2.imshow(\"NRPatternS\", patternS_noise)\n",
    "\n",
    "# Write images\n",
    "cv2.imwrite(\"NRImage.jpg\", img_noise)\n",
    "cv2.imwrite(\"NRPatternS.jpg\", patternS_noise)\n",
    "\n",
    "# wait key function\n",
    "cv2.waitKey(0)\n",
    "\n",
    "# destroys all windows\n",
    "cv2.destroyAllWindows()"
   ]
  },
  {
   "cell_type": "code",
   "execution_count": null,
   "metadata": {},
   "outputs": [],
   "source": []
  }
 ],
 "metadata": {
  "kernelspec": {
   "display_name": "Python 3",
   "language": "python",
   "name": "python3"
  },
  "language_info": {
   "codemirror_mode": {
    "name": "ipython",
    "version": 3
   },
   "file_extension": ".py",
   "mimetype": "text/x-python",
   "name": "python",
   "nbconvert_exporter": "python",
   "pygments_lexer": "ipython3",
   "version": "3.7.6"
  }
 },
 "nbformat": 4,
 "nbformat_minor": 4
}
