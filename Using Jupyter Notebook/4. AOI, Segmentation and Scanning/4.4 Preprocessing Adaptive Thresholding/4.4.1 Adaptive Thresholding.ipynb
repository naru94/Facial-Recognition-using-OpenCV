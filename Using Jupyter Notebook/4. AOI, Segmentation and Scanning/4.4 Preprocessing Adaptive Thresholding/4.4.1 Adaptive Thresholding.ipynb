{
 "cells": [
  {
   "cell_type": "code",
   "execution_count": 1,
   "metadata": {},
   "outputs": [],
   "source": [
    "import numpy as np\n",
    "import cv2"
   ]
  },
  {
   "cell_type": "code",
   "execution_count": 2,
   "metadata": {},
   "outputs": [],
   "source": [
    "# read images\n",
    "auxS = cv2.imread(\"BackgroundS.jpg\", 0)\n",
    "auxB = cv2.imread(\"BackgroundB.jpg\", 0)"
   ]
  },
  {
   "cell_type": "code",
   "execution_count": 3,
   "metadata": {},
   "outputs": [],
   "source": [
    "# Dilate the edges\n",
    "kernel = np.ones((1,1),'uint8')\n",
    "imgS_DILATE = cv2.dilate(auxS, kernel, iterations=1)\n",
    "imgB_DILATE = cv2.dilate(auxB, kernel, iterations=1)\n",
    "\n",
    "# Binarize image for segment\n",
    "thres_adapt_auxS = cv2.adaptiveThreshold(imgS_DILATE, 255, cv2.ADAPTIVE_THRESH_GAUSSIAN_C, cv2.THRESH_BINARY, 115, 1)\n",
    "thres_adapt_auxB = cv2.adaptiveThreshold(imgB_DILATE, 255, cv2.ADAPTIVE_THRESH_GAUSSIAN_C, cv2.THRESH_BINARY, 115, 1)"
   ]
  },
  {
   "cell_type": "code",
   "execution_count": 5,
   "metadata": {},
   "outputs": [],
   "source": [
    "# create windows\n",
    "cv2.namedWindow(\"BackgroundS\",cv2.WINDOW_NORMAL)\n",
    "cv2.namedWindow(\"BackgroundB\",cv2.WINDOW_NORMAL)\n",
    "cv2.namedWindow(\"ThreshS\",cv2.WINDOW_NORMAL)\n",
    "cv2.namedWindow(\"ThreshB\",cv2.WINDOW_NORMAL)\n",
    "\n",
    "# Position Window with images\n",
    "cv2.moveWindow(\"BackgroundS\", 0, 0)\n",
    "cv2.moveWindow(\"BackgroundB\", 320, 0)\n",
    "cv2.moveWindow(\"ThreshS\", 640, 0)\n",
    "cv2.moveWindow(\"ThreshB\", 960, 0)\n",
    "\n",
    "# Show images\n",
    "cv2.imshow(\"BackgroundS\", auxS)\n",
    "cv2.imshow(\"BackgroundB\", auxB)\n",
    "cv2.imshow(\"ThreshB\", thres_adapt_auxS)\n",
    "cv2.imshow(\"ThreshS\", thres_adapt_auxB)\n",
    "\n",
    "# Write images\n",
    "cv2.imwrite(\"ThreshS.jpg\", thres_adapt_auxS)\n",
    "cv2.imwrite(\"ThreshB.jpg\", thres_adapt_auxB)\n",
    "\n",
    "# wait key function\n",
    "cv2.waitKey(0)\n",
    "\n",
    "# destroys all windows\n",
    "cv2.destroyAllWindows()"
   ]
  },
  {
   "cell_type": "code",
   "execution_count": null,
   "metadata": {},
   "outputs": [],
   "source": []
  }
 ],
 "metadata": {
  "kernelspec": {
   "display_name": "Python 3",
   "language": "python",
   "name": "python3"
  },
  "language_info": {
   "codemirror_mode": {
    "name": "ipython",
    "version": 3
   },
   "file_extension": ".py",
   "mimetype": "text/x-python",
   "name": "python",
   "nbconvert_exporter": "python",
   "pygments_lexer": "ipython3",
   "version": "3.7.6"
  }
 },
 "nbformat": 4,
 "nbformat_minor": 4
}
