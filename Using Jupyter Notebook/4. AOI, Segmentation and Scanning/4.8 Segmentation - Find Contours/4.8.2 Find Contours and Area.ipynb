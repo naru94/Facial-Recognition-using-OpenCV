{
 "cells": [
  {
   "cell_type": "code",
   "execution_count": 9,
   "metadata": {},
   "outputs": [],
   "source": [
    "import numpy as np\n",
    "import cv2"
   ]
  },
  {
   "cell_type": "code",
   "execution_count": 10,
   "metadata": {},
   "outputs": [],
   "source": [
    "# Intialize count\n",
    "countS = 0\n",
    "countB = 0"
   ]
  },
  {
   "cell_type": "code",
   "execution_count": 11,
   "metadata": {},
   "outputs": [],
   "source": [
    "# read images\n",
    "ThreshS = cv2.imread(\"ThreshS.jpg\", 0)\n",
    "ThreshB = cv2.imread(\"ThreshB.jpg\", 0)"
   ]
  },
  {
   "cell_type": "code",
   "execution_count": 12,
   "metadata": {},
   "outputs": [],
   "source": [
    "# Apply median blur\n",
    "ThreshS = cv2.bilateralFilter(ThreshS,3,150,150)\n",
    "ThreshB = cv2.bilateralFilter(ThreshB,3,150,150)"
   ]
  },
  {
   "cell_type": "code",
   "execution_count": 13,
   "metadata": {},
   "outputs": [],
   "source": [
    "# Erode the edges\n",
    "kernel = np.ones((3,3),'uint8')\n",
    "imgS_ERODE = cv2.erode(ThreshS, kernel, iterations=1)\n",
    "imgB_ERODE = cv2.erode(ThreshB, kernel, iterations=1)"
   ]
  },
  {
   "cell_type": "code",
   "execution_count": 14,
   "metadata": {},
   "outputs": [],
   "source": [
    "# Find Contours\n",
    "contoursS, hierarchyS = cv2.findContours(imgS_ERODE, cv2.RETR_EXTERNAL, cv2.CHAIN_APPROX_SIMPLE)\n",
    "contoursB, hierarchyB = cv2.findContours(imgB_ERODE, cv2.RETR_EXTERNAL, cv2.CHAIN_APPROX_SIMPLE)"
   ]
  },
  {
   "cell_type": "code",
   "execution_count": 15,
   "metadata": {},
   "outputs": [],
   "source": [
    "# Get the shape parameters for empty image\n",
    "heightS, widthS = ThreshS.shape[0:2]\n",
    "heightB, widthB = ThreshB.shape[0:2]\n",
    "\n",
    "ThreshSCopy = np.zeros([heightS,widthS,3],'uint8')\n",
    "ThreshBCopy = np.zeros([heightB,widthB,3],'uint8')"
   ]
  },
  {
   "cell_type": "code",
   "execution_count": 16,
   "metadata": {},
   "outputs": [],
   "source": [
    "# Intialize parameters\n",
    "indexS = -1\n",
    "thicknessS = -1\n",
    "\n",
    "indexB = -1\n",
    "thicknessB = -1"
   ]
  },
  {
   "cell_type": "code",
   "execution_count": 20,
   "metadata": {},
   "outputs": [],
   "source": [
    "for cS in contoursS:\n",
    "    if (cv2.contourArea(cS) > 25):\n",
    "\n",
    "        # Initalize color\n",
    "        # colorS = list(np.random.choice(range(256)))\n",
    "        colorS = (255,255,0)\n",
    "\n",
    "        # Count\n",
    "        countS =countS+1\n",
    "\n",
    "        # Draw contours\n",
    "        cv2.drawContours(ThreshSCopy, [cS], -1, colorS, -1)\n",
    "\n",
    "        # Calculate Area\n",
    "        areaS = cv2.contourArea(cS)\n",
    "\n",
    "        # Calculate perimeter\n",
    "        perimeterS = cv2.arcLength(cS, True)\n",
    "        # True - the points is a closed loop\n",
    "\n",
    "        # Calculate Moments\n",
    "        MS = cv2.moments(cS)\n",
    "        cxS = int( MS['m10']/MS['m00'])\n",
    "        cyS = int( MS['m01']/MS['m00'])\n",
    "        cv2.circle(ThreshSCopy, (cxS,cyS), 4, (0,0,255), -1)\n",
    "\n",
    "        cv2.putText(ThreshSCopy,\"Area:\"+str(areaS),(cxS,cyS), cv2.FONT_HERSHEY_SIMPLEX, 0.5,(255,255,255), 1, cv2.LINE_AA)\n",
    "\n",
    "for cB in contoursB:\n",
    "    if (cv2.contourArea(cB) > 25):\n",
    "\n",
    "        # Initalize color\n",
    "        # colorB = list(np.random.choice(range(256)))\n",
    "        colorB = (255,255,0)\n",
    "\n",
    "        # Count\n",
    "        countB =countB+1\n",
    "\n",
    "        # Draw contours\n",
    "        cv2.drawContours(ThreshBCopy, [cB], -1, colorB, -1)\n",
    "\n",
    "        # Calculate Area\n",
    "        areaB = cv2.contourArea(cB)\n",
    "\n",
    "        # Calculate perimeter\n",
    "        perimeterB = cv2.arcLength(cB, True)\n",
    "        # True - the points is a closed loop\n",
    "\n",
    "        # Calculate Moments\n",
    "        MB = cv2.moments(cB)\n",
    "        cxB = int( MB['m10']/MB['m00'])\n",
    "        cyB = int( MB['m01']/MB['m00'])\n",
    "        cv2.circle(ThreshBCopy, (cxB,cyB), 4, (0,0,255), -1)\n",
    "\n",
    "        cv2.putText(ThreshBCopy,\"Area:\"+str(areaB),(cxB,cyB), cv2.FONT_HERSHEY_SIMPLEX, 0.5,(255,255,255), 2, cv2.LINE_AA)"
   ]
  },
  {
   "cell_type": "code",
   "execution_count": 21,
   "metadata": {},
   "outputs": [
    {
     "name": "stdout",
     "output_type": "stream",
     "text": [
      "Number of Objects: 10\n",
      "Number of Objects: 10\n"
     ]
    }
   ],
   "source": [
    "# Print count\n",
    "print(\"Number of Objects: \" + str(countS))\n",
    "print(\"Number of Objects: \" + str(countB))"
   ]
  },
  {
   "cell_type": "code",
   "execution_count": 22,
   "metadata": {},
   "outputs": [],
   "source": [
    "# create windows\n",
    "cv2.namedWindow(\"ContoursS\",cv2.WINDOW_NORMAL)\n",
    "cv2.namedWindow(\"ContoursB\",cv2.WINDOW_NORMAL)\n",
    "cv2.namedWindow(\"ContoursOutlineS\",cv2.WINDOW_NORMAL)\n",
    "cv2.namedWindow(\"ContoursOutlineB\",cv2.WINDOW_NORMAL)\n",
    "\n",
    "# Position Window with images\n",
    "cv2.moveWindow(\"ContoursS\", 0, 0)\n",
    "cv2.moveWindow(\"ContoursB\", 320, 0)\n",
    "cv2.moveWindow(\"ContoursOutlineS\", 640, 0)\n",
    "cv2.moveWindow(\"ContoursOutlineB\", 960, 0)\n",
    "\n",
    "# Show image\n",
    "cv2.imshow(\"ContoursS\", ThreshSCopy)\n",
    "cv2.imshow(\"ContoursB\", ThreshBCopy)\n",
    "cv2.imshow(\"ContoursOutlineS\", imgS_ERODE)\n",
    "cv2.imshow(\"ContoursOutlineB\", imgB_ERODE)\n",
    "\n",
    "# wait key function\n",
    "cv2.waitKey(0)\n",
    "\n",
    "# destroys all windows\n",
    "cv2.destroyAllWindows()"
   ]
  },
  {
   "cell_type": "code",
   "execution_count": null,
   "metadata": {},
   "outputs": [],
   "source": []
  }
 ],
 "metadata": {
  "kernelspec": {
   "display_name": "Python 3",
   "language": "python",
   "name": "python3"
  },
  "language_info": {
   "codemirror_mode": {
    "name": "ipython",
    "version": 3
   },
   "file_extension": ".py",
   "mimetype": "text/x-python",
   "name": "python",
   "nbconvert_exporter": "python",
   "pygments_lexer": "ipython3",
   "version": "3.7.6"
  }
 },
 "nbformat": 4,
 "nbformat_minor": 4
}
