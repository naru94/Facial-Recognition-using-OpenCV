{
 "cells": [
  {
   "cell_type": "code",
   "execution_count": 1,
   "metadata": {},
   "outputs": [],
   "source": [
    "import numpy as np\n",
    "import cv2"
   ]
  },
  {
   "cell_type": "code",
   "execution_count": 2,
   "metadata": {},
   "outputs": [],
   "source": [
    "# Read images\n",
    "ThreshS = cv2.imread(\"ThreshS.jpg\", 0)\n",
    "ThreshB = cv2.imread(\"ThreshB.jpg\", 0)"
   ]
  },
  {
   "cell_type": "code",
   "execution_count": 3,
   "metadata": {},
   "outputs": [],
   "source": [
    "# Apply median blur\n",
    "ThreshS = cv2.bilateralFilter(ThreshS,3,150,150)\n",
    "ThreshB = cv2.bilateralFilter(ThreshB,3,150,150)"
   ]
  },
  {
   "cell_type": "code",
   "execution_count": 4,
   "metadata": {},
   "outputs": [],
   "source": [
    "# Erode the edges\n",
    "kernel = np.ones((3,3),'uint8')\n",
    "imgS_ERODE = cv2.erode(ThreshS, kernel, iterations=1)\n",
    "imgB_ERODE = cv2.erode(ThreshB, kernel, iterations=1)"
   ]
  },
  {
   "cell_type": "code",
   "execution_count": 5,
   "metadata": {},
   "outputs": [],
   "source": [
    "# Find Contours\n",
    "# • Contours: This is the contours output where each detected contour is a vector of points.\n",
    "# • Hierarchy: This is the optional output vector where we store the hierarchy of contours. This is the topology of the image where we can get the relations between each contour.\n",
    "# • Image: This is the input binary image.\n",
    "# • Mode: This is the method used to retrieve the contours:\n",
    "#   °° RETR_EXTERNAL: This retrieves only the external contours.\n",
    "#   °° RETR_LIST: This retrieves all the contours without establishing the hierarchy.\n",
    "#   °° RETR_CCOMP: This retrieves all the contours with two levels of hierarchy: external and holes. If another object is inside one hole, then this is put on the top of the hierarchy.\n",
    "#   °° RETR_TREE: This retrieves all the contours that create a full hierarchy between contours.\n",
    "# • Method: This allows you to perform the approximation method to retrieve the contours' shapes:\n",
    "#   °° CV_CHAIN_APPROX_NONE: This does not apply any approximation to the contours and stores all the contours points.\n",
    "#   °° CV_CHAIN_APPROX_SIMPLE: This compresses all the horizontal, vertical, and diagonal segments that store only the start and end points.\n",
    "#   °° CV_CHAIN_APPROX_TC89_L1,CV_CHAIN_APPROX_TC89_KCOS This applies the Teh-Chin chain approximation algorithm.\n",
    "# • Offset: This is the optional point value used to shift all the contours. This is very useful when we work in a ROI and is required to retrieve the global positions.\n",
    "contoursS, hierarchyS = cv2.findContours(imgS_ERODE, cv2.RETR_EXTERNAL, cv2.CHAIN_APPROX_SIMPLE)\n",
    "contoursB, hierarchyB = cv2.findContours(imgB_ERODE, cv2.RETR_EXTERNAL, cv2.CHAIN_APPROX_SIMPLE)"
   ]
  },
  {
   "cell_type": "code",
   "execution_count": 6,
   "metadata": {},
   "outputs": [],
   "source": [
    "# Get the shape parameters for empty image\n",
    "heightS, widthS = ThreshS.shape[0:2]\n",
    "heightB, widthB = ThreshB.shape[0:2]\n",
    "\n",
    "ThreshSCopy = np.zeros([heightS,widthS,3],'uint8')\n",
    "ThreshBCopy = np.zeros([heightB,widthB,3],'uint8')"
   ]
  },
  {
   "cell_type": "code",
   "execution_count": 7,
   "metadata": {},
   "outputs": [],
   "source": [
    "# Intialize parameters\n",
    "indexS = -1\n",
    "thicknessS = 2\n",
    "colorS = (255, 255, 0)\n",
    "\n",
    "indexB = -1\n",
    "thicknessB = - 1\n",
    "colorB = (255, 255, 0)"
   ]
  },
  {
   "cell_type": "code",
   "execution_count": 8,
   "metadata": {},
   "outputs": [
    {
     "data": {
      "text/plain": [
       "array([[[0, 0, 0],\n",
       "        [0, 0, 0],\n",
       "        [0, 0, 0],\n",
       "        ...,\n",
       "        [0, 0, 0],\n",
       "        [0, 0, 0],\n",
       "        [0, 0, 0]],\n",
       "\n",
       "       [[0, 0, 0],\n",
       "        [0, 0, 0],\n",
       "        [0, 0, 0],\n",
       "        ...,\n",
       "        [0, 0, 0],\n",
       "        [0, 0, 0],\n",
       "        [0, 0, 0]],\n",
       "\n",
       "       [[0, 0, 0],\n",
       "        [0, 0, 0],\n",
       "        [0, 0, 0],\n",
       "        ...,\n",
       "        [0, 0, 0],\n",
       "        [0, 0, 0],\n",
       "        [0, 0, 0]],\n",
       "\n",
       "       ...,\n",
       "\n",
       "       [[0, 0, 0],\n",
       "        [0, 0, 0],\n",
       "        [0, 0, 0],\n",
       "        ...,\n",
       "        [0, 0, 0],\n",
       "        [0, 0, 0],\n",
       "        [0, 0, 0]],\n",
       "\n",
       "       [[0, 0, 0],\n",
       "        [0, 0, 0],\n",
       "        [0, 0, 0],\n",
       "        ...,\n",
       "        [0, 0, 0],\n",
       "        [0, 0, 0],\n",
       "        [0, 0, 0]],\n",
       "\n",
       "       [[0, 0, 0],\n",
       "        [0, 0, 0],\n",
       "        [0, 0, 0],\n",
       "        ...,\n",
       "        [0, 0, 0],\n",
       "        [0, 0, 0],\n",
       "        [0, 0, 0]]], dtype=uint8)"
      ]
     },
     "execution_count": 8,
     "metadata": {},
     "output_type": "execute_result"
    }
   ],
   "source": [
    "# Draw the Contours\n",
    "cv2.drawContours(ThreshSCopy, contoursS, indexS, colorS, thicknessS)\n",
    "cv2.drawContours(ThreshBCopy, contoursB, indexB, colorB, thicknessB)\n",
    "# • Image: This is the output image used to draw the contours.\n",
    "# • Contours: This is the vector of contours.\n",
    "# • Contour index: This is a number that indicates the contour to be drawn; if it is negative, all the contours are drawn.\n",
    "# • Color: This is the color used to draw the contour.\n",
    "# • Thickness: If this is negative, then the contour is filled with the color chosen.\n",
    "# • Line type: This is used when we want draw with antialiasing, or other drawing methods.\n",
    "# • Hierarchy: This is an optional parameter and is only needed if you want to draw only some of the contours.\n",
    "# • Max level: This is an optional parameter and taken into account only when the hierarchy parameter is available. If it is set to 0, only the specified contour is drawn, and if it is set to 1, the function draws the current contour and the nested as well. If it is set to 2, then the algorithm draws all the specified contour hierarchies.\n",
    "# • Offset: This is an optional parameter used to shift the contours."
   ]
  },
  {
   "cell_type": "code",
   "execution_count": 10,
   "metadata": {},
   "outputs": [],
   "source": [
    "# create windows\n",
    "cv2.namedWindow(\"ContoursS\",cv2.WINDOW_NORMAL)\n",
    "cv2.namedWindow(\"ContoursB\",cv2.WINDOW_NORMAL)\n",
    "\n",
    "# Position Window with images\n",
    "cv2.moveWindow(\"ContoursS\", 0, 0)\n",
    "cv2.moveWindow(\"ContoursB\", 320, 0)\n",
    "\n",
    "# Show image\n",
    "cv2.imshow(\"ContoursS\", ThreshSCopy)\n",
    "cv2.imshow(\"ContoursB\", ThreshBCopy)\n",
    "\n",
    "# wait key function\n",
    "cv2.waitKey(0)\n",
    "\n",
    "# destroys all windows\n",
    "cv2.destroyAllWindows()"
   ]
  },
  {
   "cell_type": "code",
   "execution_count": null,
   "metadata": {},
   "outputs": [],
   "source": []
  }
 ],
 "metadata": {
  "kernelspec": {
   "display_name": "Python 3",
   "language": "python",
   "name": "python3"
  },
  "language_info": {
   "codemirror_mode": {
    "name": "ipython",
    "version": 3
   },
   "file_extension": ".py",
   "mimetype": "text/x-python",
   "name": "python",
   "nbconvert_exporter": "python",
   "pygments_lexer": "ipython3",
   "version": "3.7.6"
  }
 },
 "nbformat": 4,
 "nbformat_minor": 4
}
