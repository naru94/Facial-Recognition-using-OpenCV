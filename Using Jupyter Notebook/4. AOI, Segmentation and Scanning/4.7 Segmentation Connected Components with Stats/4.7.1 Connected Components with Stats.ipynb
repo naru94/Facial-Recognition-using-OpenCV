{
 "cells": [
  {
   "cell_type": "code",
   "execution_count": 1,
   "metadata": {},
   "outputs": [],
   "source": [
    "import numpy as np\n",
    "import cv2"
   ]
  },
  {
   "cell_type": "code",
   "execution_count": 2,
   "metadata": {},
   "outputs": [],
   "source": [
    "# read images\n",
    "ThreshS = cv2.imread(\"ThreshS.jpg\", 0)\n",
    "ThreshB = cv2.imread(\"ThreshB.jpg\", 0)"
   ]
  },
  {
   "cell_type": "code",
   "execution_count": 3,
   "metadata": {},
   "outputs": [],
   "source": [
    "# Get the shape parameters for empty image\n",
    "height, width = ThreshS.shape[0:2]"
   ]
  },
  {
   "cell_type": "code",
   "execution_count": 4,
   "metadata": {},
   "outputs": [],
   "source": [
    "# Apply median blur\n",
    "ThreshS = cv2.bilateralFilter(ThreshS,3,150,150)\n",
    "ThreshB = cv2.bilateralFilter(ThreshB,3,150,150)"
   ]
  },
  {
   "cell_type": "code",
   "execution_count": 5,
   "metadata": {},
   "outputs": [],
   "source": [
    "# Erode the edges\n",
    "kernel = np.ones((3,3),'uint8')\n",
    "imgS_ERODE = cv2.erode(ThreshS, kernel, iterations=2)\n",
    "imgB_ERODE = cv2.erode(ThreshB, kernel, iterations=2)"
   ]
  },
  {
   "cell_type": "code",
   "execution_count": 6,
   "metadata": {},
   "outputs": [],
   "source": [
    "# Connected Components with Stats algorithm\n",
    "retS, labelsS, statsS, centroidS = cv2.connectedComponentsWithStats(imgS_ERODE, connectivity=8)\n",
    "retB, labelsB, statsB, centroidB = cv2.connectedComponentsWithStats(imgS_ERODE, connectivity=8)"
   ]
  },
  {
   "cell_type": "code",
   "execution_count": 7,
   "metadata": {},
   "outputs": [],
   "source": [
    "# Get the shape parameters for empty image\n",
    "heightS, widthS = labelsS.shape[0:2]\n",
    "heightB, widthB = labelsB.shape[0:2]"
   ]
  },
  {
   "cell_type": "code",
   "execution_count": 8,
   "metadata": {},
   "outputs": [
    {
     "name": "stdout",
     "output_type": "stream",
     "text": [
      "Number of Objects: 6\n",
      "Number of Objects: 6\n"
     ]
    }
   ],
   "source": [
    "if (retS > 2):\n",
    "    print(\"Number of Objects: \" + str(retS))\n",
    "\n",
    "    # Intialize binary image\n",
    "    binaryS = np.zeros([heightS,widthS,3],'uint8')\n",
    "\n",
    "    for row in range(0,heightS):\n",
    "        for col in range(0, widthS):\n",
    "            if labelsS[row][col]==1:\n",
    "                binaryS[row][col]=[255, 0, 0]\n",
    "            elif labelsS[row][col]==2:\n",
    "                binaryS[row][col]=[0, 255, 0]\n",
    "            elif labelsS[row][col]==3:\n",
    "                binaryS[row][col]=[0, 0, 255]\n",
    "            elif labelsS[row][col]==4:\n",
    "                binaryS[row][col]=[255, 255, 0]\n",
    "            elif labelsS[row][col]==5:\n",
    "                binaryS[row][col]=[255, 0, 255]\n",
    "            elif labelsS[row][col]==6:\n",
    "                binaryS[row][col]=[0, 255, 255]\n",
    "\n",
    "if (retB > 2):\n",
    "    print(\"Number of Objects: \" + str(retB))\n",
    "\n",
    "    # Intialize binary image\n",
    "    binaryB = np.zeros([heightB,widthB,3],'uint8')\n",
    "\n",
    "    for row in range(0,heightB):\n",
    "        for col in range(0, widthB):\n",
    "            if labelsB[row][col]==1:\n",
    "                binaryB[row][col]=[255, 0, 0]\n",
    "            elif labelsB[row][col]==2:\n",
    "                binaryB[row][col]=[0, 255, 0]\n",
    "            elif labelsB[row][col]==3:\n",
    "                binaryB[row][col]=[0, 0, 255]\n",
    "            elif labelsB[row][col]==4:\n",
    "                binaryB[row][col]=[255, 255, 0]\n",
    "            elif labelsB[row][col]==5:\n",
    "                binaryB[row][col]=[255, 0, 255]\n",
    "            elif labelsB[row][col]==6:\n",
    "                binaryB[row][col]=[0, 255, 255]"
   ]
  },
  {
   "cell_type": "code",
   "execution_count": 9,
   "metadata": {},
   "outputs": [],
   "source": [
    "# • Text data that you want to write\n",
    "# • Position coordinates of where you want put it (i.e. bottom-left corner where data starts).\n",
    "# • Font type (Check cv2.putText() docs for supported fonts)\n",
    "# • Font Scale (specifies the size of font)\n",
    "# • Regular things like color, thickness, lineType etc. For better look, lineType = cv2.LINE_AA is recommended.\n",
    "\n",
    "\n",
    "if (retS > 2): \n",
    "    for i,x in enumerate(centroidS):\n",
    "        if (i > 0):\n",
    "            cv2.putText(binaryS, str(statsS[i, cv2.CC_STAT_AREA]), (int(centroidS[i][0]), int(centroidS[i][1])), cv2.FONT_HERSHEY_SIMPLEX, 0.5,(255,255,255), 2, cv2.LINE_AA)\n",
    "\n",
    "if (retB > 2):\n",
    "    for i,x in enumerate(centroidB):\n",
    "        if (i > 0):\n",
    "            cv2.putText(binaryB, str(statsB[i, cv2.CC_STAT_AREA]), (int(centroidB[i][0]), int(centroidB[i][1])), cv2.FONT_HERSHEY_SIMPLEX, 0.5,(255,255,255), 2, cv2.LINE_AA)"
   ]
  },
  {
   "cell_type": "code",
   "execution_count": 11,
   "metadata": {},
   "outputs": [],
   "source": [
    "# create windows\n",
    "cv2.namedWindow(\"ThreshS\",cv2.WINDOW_NORMAL)\n",
    "cv2.namedWindow(\"ThreshB\",cv2.WINDOW_NORMAL)\n",
    "cv2.namedWindow(\"ImageS\",cv2.WINDOW_NORMAL)\n",
    "cv2.namedWindow(\"ImageB\",cv2.WINDOW_NORMAL)\n",
    "\n",
    "# Position Window with images\n",
    "cv2.moveWindow(\"ThreshS\", 0, 0)\n",
    "cv2.moveWindow(\"ThreshB\", 320, 0)\n",
    "cv2.moveWindow(\"ImageS\", 640, 0)\n",
    "cv2.moveWindow(\"ImageB\", 960, 0) \n",
    "\n",
    "# Show images\n",
    "cv2.imshow(\"ThreshS\", ThreshS)\n",
    "cv2.imshow(\"ThreshB\", ThreshB)\n",
    "cv2.imshow(\"ImageS\", binaryS)\n",
    "cv2.imshow(\"ImageB\", binaryB)\n",
    "\n",
    "# wait key function\n",
    "cv2.waitKey(0)\n",
    "\n",
    "# destroys all windows\n",
    "cv2.destroyAllWindows()"
   ]
  },
  {
   "cell_type": "code",
   "execution_count": null,
   "metadata": {},
   "outputs": [],
   "source": []
  }
 ],
 "metadata": {
  "kernelspec": {
   "display_name": "Python 3",
   "language": "python",
   "name": "python3"
  },
  "language_info": {
   "codemirror_mode": {
    "name": "ipython",
    "version": 3
   },
   "file_extension": ".py",
   "mimetype": "text/x-python",
   "name": "python",
   "nbconvert_exporter": "python",
   "pygments_lexer": "ipython3",
   "version": "3.7.6"
  }
 },
 "nbformat": 4,
 "nbformat_minor": 4
}
