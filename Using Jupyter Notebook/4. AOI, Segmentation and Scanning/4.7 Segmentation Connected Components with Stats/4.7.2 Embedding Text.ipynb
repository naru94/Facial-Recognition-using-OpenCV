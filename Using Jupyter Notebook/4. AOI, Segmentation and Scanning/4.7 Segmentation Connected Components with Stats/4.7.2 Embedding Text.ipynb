{
 "cells": [
  {
   "cell_type": "code",
   "execution_count": 1,
   "metadata": {},
   "outputs": [],
   "source": [
    "import numpy as np\n",
    "import cv2"
   ]
  },
  {
   "cell_type": "code",
   "execution_count": 2,
   "metadata": {},
   "outputs": [],
   "source": [
    "# read images\n",
    "lena = cv2.imread(\"Lena.png\", 1)\n",
    "\n",
    "# • Text data that you want to write\n",
    "# • Position coordinates of where you want put it (i.e. bottom-left corner where data starts).\n",
    "# • Font type (Check cv2.putText() docs for supported fonts)\n",
    "# • Font Scale (specifies the size of font)\n",
    "# • Regular things like color, thickness, lineType etc. For better look, lineType = cv2.LINE_AA is recommended.\n",
    "font = cv2.FONT_HERSHEY_SIMPLEX\n",
    "cv2.putText(lena, 'LENA', (10,100), font, 0.5, (0, 255, 0), 1, cv2.LINE_AA)\n",
    "\n",
    "# Show images\n",
    "cv2.imshow(\"Lena\", lena)\n",
    "\n",
    "# wait key function\n",
    "cv2.waitKey(0)\n",
    "\n",
    "# destroys all windows\n",
    "cv2.destroyAllWindows()"
   ]
  },
  {
   "cell_type": "code",
   "execution_count": null,
   "metadata": {},
   "outputs": [],
   "source": []
  }
 ],
 "metadata": {
  "kernelspec": {
   "display_name": "Python 3",
   "language": "python",
   "name": "python3"
  },
  "language_info": {
   "codemirror_mode": {
    "name": "ipython",
    "version": 3
   },
   "file_extension": ".py",
   "mimetype": "text/x-python",
   "name": "python",
   "nbconvert_exporter": "python",
   "pygments_lexer": "ipython3",
   "version": "3.7.6"
  }
 },
 "nbformat": 4,
 "nbformat_minor": 4
}
