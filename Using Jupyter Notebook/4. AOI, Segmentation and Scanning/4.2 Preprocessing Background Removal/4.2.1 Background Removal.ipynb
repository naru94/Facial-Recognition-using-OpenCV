{
 "cells": [
  {
   "cell_type": "code",
   "execution_count": 1,
   "metadata": {},
   "outputs": [],
   "source": [
    "import numpy as np\n",
    "import cv2"
   ]
  },
  {
   "cell_type": "code",
   "execution_count": 2,
   "metadata": {},
   "outputs": [],
   "source": [
    "# read images\n",
    "img = cv2.imread(\"NRImage.jpg\")\n",
    "patternS = cv2.imread(\"NRPatternS.jpg\")"
   ]
  },
  {
   "cell_type": "code",
   "execution_count": 4,
   "metadata": {},
   "outputs": [],
   "source": [
    "# Basic and effective way to calculate the light pattern from one image\n",
    "patternB = cv2.blur(img, (int(len(img[0])/2),int(len(img)/2)))\n",
    "\n",
    "# Subtract the image by the pattern\n",
    "auxS = patternS - img\n",
    "auxB = patternB - img\n",
    "\n",
    "# Show images\n",
    "cv2.imshow(\"Image\", img)\n",
    "cv2.imshow(\"PatternS\", patternS)\n",
    "cv2.imshow(\"PatternB\", patternB)\n",
    "cv2.imshow(\"BackgroundS\", auxS)\n",
    "cv2.imshow(\"BackgroundB\", auxB)\n",
    "\n",
    "# Position Window with images\n",
    "cv2.moveWindow(\"Image\", 0, 0)\n",
    "cv2.moveWindow(\"PatternS\", 320, 0)\n",
    "cv2.moveWindow(\"PatternB\", 640, 0)\n",
    "cv2.moveWindow(\"BackgroundS\", 320, 280)\n",
    "cv2.moveWindow(\"BackgroundB\", 640, 280)\n",
    "\n",
    "# Write images\n",
    "cv2.imwrite(\"BackgroundS.jpg\", auxS)\n",
    "cv2.imwrite(\"BackgroundB.jpg\", auxB)\n",
    "\n",
    "# wait key function\n",
    "cv2.waitKey(0)\n",
    "\n",
    "# destroys all windows\n",
    "cv2.destroyAllWindows()"
   ]
  },
  {
   "cell_type": "code",
   "execution_count": null,
   "metadata": {},
   "outputs": [],
   "source": []
  }
 ],
 "metadata": {
  "kernelspec": {
   "display_name": "Python 3",
   "language": "python",
   "name": "python3"
  },
  "language_info": {
   "codemirror_mode": {
    "name": "ipython",
    "version": 3
   },
   "file_extension": ".py",
   "mimetype": "text/x-python",
   "name": "python",
   "nbconvert_exporter": "python",
   "pygments_lexer": "ipython3",
   "version": "3.7.6"
  }
 },
 "nbformat": 4,
 "nbformat_minor": 4
}
