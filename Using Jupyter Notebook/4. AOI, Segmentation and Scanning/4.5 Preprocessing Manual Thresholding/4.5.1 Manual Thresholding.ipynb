{
 "cells": [
  {
   "cell_type": "code",
   "execution_count": 1,
   "metadata": {},
   "outputs": [],
   "source": [
    "import numpy as np\n",
    "import cv2"
   ]
  },
  {
   "cell_type": "code",
   "execution_count": 2,
   "metadata": {},
   "outputs": [],
   "source": [
    "# read images\n",
    "auxS = cv2.imread(\"BackgroundS.jpg\", 0)\n",
    "auxB = cv2.imread(\"BackgroundB.jpg\", 0)"
   ]
  },
  {
   "cell_type": "code",
   "execution_count": 3,
   "metadata": {},
   "outputs": [],
   "source": [
    "# Get the shape parameters for empty image\n",
    "height, width = auxS.shape[0:2]"
   ]
  },
  {
   "cell_type": "code",
   "execution_count": 4,
   "metadata": {},
   "outputs": [],
   "source": [
    "# Intialize binary image\n",
    "binaryS = np.zeros([height,width,1],'uint8')\n",
    "binaryB = np.zeros([height,width,1],'uint8')"
   ]
  },
  {
   "cell_type": "code",
   "execution_count": 5,
   "metadata": {},
   "outputs": [],
   "source": [
    "for row in range(0,height):\n",
    "    for col in range(0, width):\n",
    "        if auxS[row][col]>30 and auxS[row][col]<150:\n",
    "            binaryS[row][col]=255\n",
    "\n",
    "for row in range(0,height):\n",
    "    for col in range(0, width):\n",
    "        if auxS[row][col]>30 and auxS[row][col]<150:\n",
    "            binaryB[row][col]=255"
   ]
  },
  {
   "cell_type": "code",
   "execution_count": 7,
   "metadata": {},
   "outputs": [],
   "source": [
    "# create windows\n",
    "cv2.namedWindow(\"BackgroundS\",cv2.WINDOW_NORMAL)\n",
    "cv2.namedWindow(\"BackgroundB\",cv2.WINDOW_NORMAL)\n",
    "cv2.namedWindow(\"Slow BinaryS\",cv2.WINDOW_NORMAL)\n",
    "cv2.namedWindow(\"Slow BinaryB\",cv2.WINDOW_NORMAL)\n",
    "            \n",
    "# Position Window with images\n",
    "cv2.moveWindow(\"BackgroundS\", 0, 0)\n",
    "cv2.moveWindow(\"BackgroundB\", 320, 0)\n",
    "cv2.moveWindow(\"Slow BinaryS\", 640, 0)\n",
    "cv2.moveWindow(\"Slow BinaryB\", 960, 0)      \n",
    "            \n",
    "# Show images\n",
    "cv2.imshow(\"BackgroundS\", auxS)\n",
    "cv2.imshow(\"BackgroundB\", auxB)\n",
    "cv2.imshow(\"Slow BinaryS\",binaryS)\n",
    "cv2.imshow(\"Slow BinaryB\",binaryB)\n",
    "\n",
    "# Write images\n",
    "cv2.imwrite(\"ThreshS.jpg\", binaryS)\n",
    "cv2.imwrite(\"ThreshB.jpg\", binaryB)\n",
    "\n",
    "# wait key function\n",
    "cv2.waitKey(0)\n",
    "\n",
    "# destroys all windows\n",
    "cv2.destroyAllWindows()"
   ]
  },
  {
   "cell_type": "code",
   "execution_count": null,
   "metadata": {},
   "outputs": [],
   "source": []
  }
 ],
 "metadata": {
  "kernelspec": {
   "display_name": "Python 3",
   "language": "python",
   "name": "python3"
  },
  "language_info": {
   "codemirror_mode": {
    "name": "ipython",
    "version": 3
   },
   "file_extension": ".py",
   "mimetype": "text/x-python",
   "name": "python",
   "nbconvert_exporter": "python",
   "pygments_lexer": "ipython3",
   "version": "3.7.6"
  }
 },
 "nbformat": 4,
 "nbformat_minor": 4
}
